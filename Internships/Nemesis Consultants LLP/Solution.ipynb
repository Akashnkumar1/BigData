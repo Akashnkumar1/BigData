{
 "cells": [
  {
   "cell_type": "markdown",
   "id": "147ca3f9-a6da-46d0-8f23-287e7e73d7ac",
   "metadata": {},
   "source": [
    "<h1 align = 'center'> Fraud Detection System<h1>"
   ]
  },
  {
   "cell_type": "code",
   "execution_count": 1,
   "id": "b667ab32-dbf6-487c-967d-2aa82b36d2e4",
   "metadata": {},
   "outputs": [],
   "source": [
    "#--------------------------------------------------Importing packages-----------------------------------------------#\n",
    "import numpy as np\n",
    "import pandas as pd\n",
    "import matplotlib.pyplot as plt\n",
    "import seaborn as sns\n",
    "import sklearn"
   ]
  },
  {
   "cell_type": "code",
   "execution_count": 2,
   "id": "38808f2f-1f88-480b-b199-3ee2eb2938e0",
   "metadata": {},
   "outputs": [],
   "source": [
    "#--------------------------------------------------Loading Datasets-----------------------------------------------#\n",
    "\n",
    "data = pd.read_json('transactions.txt',lines=True)"
   ]
  },
  {
   "cell_type": "code",
   "execution_count": 3,
   "id": "6eb41d8f-d793-4ba7-b500-d0e163d53914",
   "metadata": {},
   "outputs": [],
   "source": [
    "#--------------------------------------------------Droping Null Columns-----------------------------------------------#\n",
    "data.drop(['echoBuffer', 'merchantCity', 'merchantState', 'merchantZip', 'posOnPremises', 'recurringAuthInd'], axis=1, inplace=True)"
   ]
  },
  {
   "cell_type": "code",
   "execution_count": 4,
   "id": "bdbd7376-0a05-448d-bf4c-7a00a672497c",
   "metadata": {},
   "outputs": [
    {
     "name": "stdout",
     "output_type": "stream",
     "text": [
      "<class 'pandas.core.frame.DataFrame'>\n",
      "RangeIndex: 786363 entries, 0 to 786362\n",
      "Data columns (total 23 columns):\n",
      " #   Column                    Non-Null Count   Dtype  \n",
      "---  ------                    --------------   -----  \n",
      " 0   accountNumber             786363 non-null  int64  \n",
      " 1   customerId                786363 non-null  int64  \n",
      " 2   creditLimit               786363 non-null  int64  \n",
      " 3   availableMoney            786363 non-null  float64\n",
      " 4   transactionDateTime       786363 non-null  object \n",
      " 5   transactionAmount         786363 non-null  float64\n",
      " 6   merchantName              786363 non-null  object \n",
      " 7   acqCountry                786363 non-null  object \n",
      " 8   merchantCountryCode       786363 non-null  object \n",
      " 9   posEntryMode              786363 non-null  object \n",
      " 10  posConditionCode          786363 non-null  object \n",
      " 11  merchantCategoryCode      786363 non-null  object \n",
      " 12  currentExpDate            786363 non-null  object \n",
      " 13  accountOpenDate           786363 non-null  object \n",
      " 14  dateOfLastAddressChange   786363 non-null  object \n",
      " 15  cardCVV                   786363 non-null  int64  \n",
      " 16  enteredCVV                786363 non-null  int64  \n",
      " 17  cardLast4Digits           786363 non-null  int64  \n",
      " 18  transactionType           786363 non-null  object \n",
      " 19  currentBalance            786363 non-null  float64\n",
      " 20  cardPresent               786363 non-null  bool   \n",
      " 21  expirationDateKeyInMatch  786363 non-null  bool   \n",
      " 22  isFraud                   786363 non-null  bool   \n",
      "dtypes: bool(3), float64(3), int64(6), object(11)\n",
      "memory usage: 122.2+ MB\n"
     ]
    }
   ],
   "source": [
    "data.info()"
   ]
  },
  {
   "cell_type": "code",
   "execution_count": 5,
   "id": "c16b546f-72c3-4f6e-bb3f-aeff31a0b3b2",
   "metadata": {},
   "outputs": [],
   "source": [
    "#--------------------------------------------------Removing Non-required Features-----------------------------------------------#\n",
    "\n",
    "df = data.drop(['transactionDateTime', 'currentExpDate', 'accountOpenDate', 'dateOfLastAddressChange', 'expirationDateKeyInMatch'], axis=1)"
   ]
  },
  {
   "cell_type": "code",
   "execution_count": 7,
   "id": "bcce3cea-a748-4cab-aa20-dfdc7b1c53b5",
   "metadata": {},
   "outputs": [
    {
     "name": "stdout",
     "output_type": "stream",
     "text": [
      "\n",
      " Object_columns =  ['merchantName', 'acqCountry', 'merchantCountryCode', 'posEntryMode', 'posConditionCode', 'merchantCategoryCode', 'transactionType']\n",
      "\n",
      " Numerical_columns =  ['accountNumber', 'customerId', 'creditLimit', 'availableMoney', 'transactionAmount', 'cardCVV', 'enteredCVV', 'cardLast4Digits', 'currentBalance', 'cardPresent', 'isFraud']\n"
     ]
    }
   ],
   "source": [
    "#--------------------------------------------------Categorizing Features-----------------------------------------------#\n",
    "object_columns = []\n",
    "numrical_columns = []\n",
    "\n",
    "for n in df.columns:\n",
    "\n",
    "    if df[n].dtypes == 'O':\n",
    "        \n",
    "        object_columns.append(n)\n",
    "    else:\n",
    "        numrical_columns.append(n)\n",
    "        \n",
    "print('\\n Object_columns = ', object_columns)\n",
    "print('\\n Numerical_columns = ', numrical_columns)"
   ]
  },
  {
   "cell_type": "code",
   "execution_count": 8,
   "id": "13ff03f3-5b8c-4697-a523-9caaebbf2898",
   "metadata": {},
   "outputs": [
    {
     "name": "stdout",
     "output_type": "stream",
     "text": [
      "Uber                        25613\n",
      "Lyft                        25523\n",
      "oldnavy.com                 16992\n",
      "staples.com                 16980\n",
      "alibaba.com                 16959\n",
      "                            ...  \n",
      "Runners #383214                 2\n",
      "Boost Mobile #104815            2\n",
      "Curves #849125                  1\n",
      "EZ Wireless #149871             1\n",
      "TMobile Wireless #602341        1\n",
      "Name: merchantName, Length: 2490, dtype: int64\n",
      "--------####--------\n",
      "US     774709\n",
      "         4562\n",
      "MEX      3130\n",
      "CAN      2424\n",
      "PR       1538\n",
      "Name: acqCountry, dtype: int64\n",
      "--------####--------\n",
      "US     778511\n",
      "MEX      3143\n",
      "CAN      2426\n",
      "PR       1559\n",
      "          724\n",
      "Name: merchantCountryCode, dtype: int64\n",
      "--------####--------\n",
      "05    315035\n",
      "09    236481\n",
      "02    195934\n",
      "90     19576\n",
      "80     15283\n",
      "        4054\n",
      "Name: posEntryMode, dtype: int64\n",
      "--------####--------\n",
      "01    628787\n",
      "08    149634\n",
      "99      7533\n",
      "         409\n",
      "Name: posConditionCode, dtype: int64\n",
      "--------####--------\n",
      "online_retail           202156\n",
      "fastfood                112138\n",
      "entertainment            80098\n",
      "food                     75490\n",
      "online_gifts             66238\n",
      "rideshare                51136\n",
      "hotels                   34097\n",
      "fuel                     23910\n",
      "subscriptions            22901\n",
      "auto                     21651\n",
      "health                   19092\n",
      "personal care            18964\n",
      "airline                  15412\n",
      "mobileapps               14990\n",
      "online_subscriptions     11067\n",
      "furniture                 7432\n",
      "food_delivery             6000\n",
      "gym                       2209\n",
      "cable/phone               1382\n",
      "Name: merchantCategoryCode, dtype: int64\n",
      "--------####--------\n",
      "PURCHASE                745193\n",
      "REVERSAL                 20303\n",
      "ADDRESS_VERIFICATION     20169\n",
      "                           698\n",
      "Name: transactionType, dtype: int64\n",
      "--------####--------\n"
     ]
    }
   ],
   "source": [
    "#--------------------------------------------------Checking for missing String Values-----------------------------------------------#\n",
    "for j in df[object_columns].columns:\n",
    "    print(df[j].value_counts())\n",
    "    print('--------####--------')\n",
    "    "
   ]
  },
  {
   "cell_type": "code",
   "execution_count": 9,
   "id": "b914beb5-c0ff-4d7a-b7d0-ab8365e93c68",
   "metadata": {},
   "outputs": [],
   "source": [
    "#--------------------------------------------------Removing Missing Strings-----------------------------------------------#\n",
    "\n",
    "blank_strings = df.loc[(df['transactionType'] == '') | (df['posConditionCode'] == '') | (df['posEntryMode'] == '') | (df['merchantCountryCode'] == '') | (df['acqCountry'] == '') | (df['merchantName'] == '')].index\n",
    "\n",
    "df.drop(index=blank_strings, inplace=True)"
   ]
  },
  {
   "cell_type": "code",
   "execution_count": null,
   "id": "b9b8d1f8-367c-4e2e-9130-7cc1556f6cca",
   "metadata": {},
   "outputs": [],
   "source": [
    "#dummies = pd.get_dummies(df[object_columns])"
   ]
  },
  {
   "cell_type": "code",
   "execution_count": 13,
   "id": "b411781f-877d-457e-a8ef-4d8c693d3588",
   "metadata": {},
   "outputs": [],
   "source": [
    "from sklearn.preprocessing import LabelEncoder\n",
    "le= LabelEncoder()\n"
   ]
  },
  {
   "cell_type": "code",
   "execution_count": 14,
   "id": "ac544af3-b97c-4a50-97bc-8f55942d72c7",
   "metadata": {},
   "outputs": [],
   "source": [
    "for k in df[object_columns].columns:\n",
    "    df[k]= le.fit_transform(df[k])\n",
    "\n",
    "df['cardPresent']= le.fit_transform(df['cardPresent'])\n",
    "df['isFraud']= le.fit_transform(df['isFraud'])"
   ]
  },
  {
   "cell_type": "code",
   "execution_count": 16,
   "id": "29dba76a-33ed-462e-952a-e917d3f686f4",
   "metadata": {},
   "outputs": [],
   "source": [
    "#--------------------------------------------------Splitting Datasets-----------------------------------------------#\n",
    "from sklearn.model_selection import train_test_split\n",
    "X = df.drop('isFraud', axis=1)\n",
    "y = df.pop('isFraud')\n",
    "\n",
    "X_train, X_test, y_train, y_test = train_test_split(X, y, train_size=0.7, test_size=0.3, random_state=0)\n"
   ]
  },
  {
   "cell_type": "code",
   "execution_count": 17,
   "id": "45560fc3-389a-4831-8132-f59e2c42b614",
   "metadata": {},
   "outputs": [],
   "source": [
    "from sklearn.linear_model import LogisticRegression\n",
    "lr = LogisticRegression()"
   ]
  },
  {
   "cell_type": "code",
   "execution_count": 18,
   "id": "f29b96c8-e81e-43b8-b0f7-90a63d55382a",
   "metadata": {},
   "outputs": [
    {
     "data": {
      "text/plain": [
       "LogisticRegression()"
      ]
     },
     "execution_count": 18,
     "metadata": {},
     "output_type": "execute_result"
    }
   ],
   "source": [
    "lr.fit(X_train, y_train)"
   ]
  },
  {
   "cell_type": "code",
   "execution_count": 19,
   "id": "946a5de7-aa81-49a2-8b87-c0960be4e45c",
   "metadata": {},
   "outputs": [],
   "source": [
    "y_pred = lr.predict(X_test)"
   ]
  },
  {
   "cell_type": "code",
   "execution_count": 20,
   "id": "ec0ea751-99bf-490f-8a81-4fb77377fac9",
   "metadata": {},
   "outputs": [
    {
     "name": "stdout",
     "output_type": "stream",
     "text": [
      "Number of Fruad '1': 8383\n",
      "Number of Not Fruad '0': 535284 \n",
      "\n"
     ]
    }
   ],
   "source": [
    "print(\"Number of Fruad '1': {}\".format(sum(y_train == 1)))\n",
    "print(\"Number of Not Fruad '0': {} \\n\".format(sum(y_train == 0)))"
   ]
  },
  {
   "cell_type": "code",
   "execution_count": 21,
   "id": "afcda159-8c2f-4433-9220-2e9d12d9d77b",
   "metadata": {},
   "outputs": [
    {
     "name": "stdout",
     "output_type": "stream",
     "text": [
      "Model Accuracy:  0.9846223835949202\n"
     ]
    }
   ],
   "source": [
    "from sklearn.metrics import accuracy_score\n",
    "print(\"Model Accuracy: \", accuracy_score(y_test, y_pred))"
   ]
  },
  {
   "cell_type": "code",
   "execution_count": 35,
   "id": "a17628b3-6b59-41f8-81ae-419bdbeb77cc",
   "metadata": {
    "tags": []
   },
   "outputs": [
    {
     "data": {
      "text/plain": [
       "BernoulliNB()"
      ]
     },
     "execution_count": 35,
     "metadata": {},
     "output_type": "execute_result"
    }
   ],
   "source": [
    "#----------Importing Bernoulli Naive Bayes package----------#\n",
    "\n",
    "from sklearn.naive_bayes import BernoulliNB\n",
    "\n",
    "berNB = BernoulliNB()\n",
    "berNB.fit(X_train, y_train)"
   ]
  },
  {
   "cell_type": "code",
   "execution_count": 36,
   "id": "0857cb0e-f1f2-4ab6-a42d-53d0367404de",
   "metadata": {},
   "outputs": [],
   "source": [
    "y_pred_NB = berNB.predict(X_test)"
   ]
  },
  {
   "cell_type": "code",
   "execution_count": 39,
   "id": "7c3c5ed6-5535-4881-b78b-0d136721ecd7",
   "metadata": {},
   "outputs": [
    {
     "name": "stdout",
     "output_type": "stream",
     "text": [
      "Model Accuracy:  0.9846223835949202\n"
     ]
    }
   ],
   "source": [
    "print(\"Model Accuracy: \", accuracy_score(y_test, y_pred_NB))"
   ]
  }
 ],
 "metadata": {
  "kernelspec": {
   "display_name": "Python 3",
   "language": "python",
   "name": "python3"
  },
  "language_info": {
   "codemirror_mode": {
    "name": "ipython",
    "version": 3
   },
   "file_extension": ".py",
   "mimetype": "text/x-python",
   "name": "python",
   "nbconvert_exporter": "python",
   "pygments_lexer": "ipython3",
   "version": "3.9.5"
  }
 },
 "nbformat": 4,
 "nbformat_minor": 5
}
