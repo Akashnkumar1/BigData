{
 "cells": [
  {
   "cell_type": "code",
   "execution_count": 8,
   "id": "9973ab7c-e852-4fcf-944d-73b9fdb761ef",
   "metadata": {},
   "outputs": [],
   "source": [
    "import datetime\n",
    "import platform\n",
    "from random import randint\n",
    "\n",
    "mail = [\"akashnkumar1@tribes.ai\",\"vinit@tribes.ai\", \"guilermo@tribes.ai\",\n",
    "         \"christian@tribes.ai\", \"elly@tribes.ai\"]\n",
    "\n",
    "minutes_used = randint(0,180)\n",
    "\n",
    "data_temp = []\n",
    "\n",
    "def gen_data():\n",
    "    \n",
    "    \"\"\" Users Genrating Data\"\"\"\n",
    "    created_at = datetime.datetime.now().strftime(\"%Y-%m-%d\")\n",
    "    for i in mail:\n",
    "        data = { \"Details\" : \n",
    "        {\n",
    "            \"user_id\" : i ,\n",
    "            \"usages_date\": created_at,\n",
    "            \"OS\" : platform.uname().system,\n",
    "            \"brand\" : platform.uname().machine\n",
    "        },\n",
    "        \"usages\" : [\n",
    "            {\n",
    "                \"app_name\" : \"slack\",\n",
    "                \"minutes_used\" : minutes_used ,\n",
    "                \"app_category\" : \"communication\"\n",
    "            },\n",
    "            {\n",
    "                \"app_name\" : \"gmail\",\n",
    "                \"minutes_used\" : minutes_used ,\n",
    "                \"app_category\" : \"communication\"\n",
    "            },\n",
    "            {\n",
    "                \"app_name\" : \"jira\",\n",
    "                \"minutes_used\" : minutes_used ,\n",
    "                \"app_category\" : \"communication\"\n",
    "            },\n",
    "            {\n",
    "                \"app_name\" : \"google drive\",\n",
    "                \"minutes_used\" : minutes_used ,\n",
    "                \"app_category\" : \"communication\"\n",
    "            },\n",
    "            {\n",
    "                \"app_name\" : \"chrome\",\n",
    "                \"minutes_used\" : minutes_used,\n",
    "                \"app_category\" : \"communication\"\n",
    "            },\n",
    "            {\n",
    "                \"app_name\" : \"spotify\",\n",
    "                \"minutes_used\" :  minutes_used,\n",
    "                \"app_category\" : \"communication\"\n",
    "            }\n",
    "        ]\n",
    "        }\n",
    "    \n",
    "        data_temp.append(data)\n",
    "\n",
    "    return data_temp"
   ]
  },
  {
   "cell_type": "code",
   "execution_count": 9,
   "id": "45923ac4-b132-4c14-81de-99999a056a7f",
   "metadata": {},
   "outputs": [
    {
     "data": {
      "text/plain": [
       "[{'Details': {'user_id': 'akashnkumar1@tribes.ai',\n",
       "   'usages_date': '2021-06-12',\n",
       "   'OS': 'Windows',\n",
       "   'brand': 'AMD64'},\n",
       "  'usages': [{'app_name': 'slack',\n",
       "    'minutes_used': 148,\n",
       "    'app_category': 'communication'},\n",
       "   {'app_name': 'gmail', 'minutes_used': 148, 'app_category': 'communication'},\n",
       "   {'app_name': 'jira', 'minutes_used': 148, 'app_category': 'communication'},\n",
       "   {'app_name': 'google drive',\n",
       "    'minutes_used': 148,\n",
       "    'app_category': 'communication'},\n",
       "   {'app_name': 'chrome',\n",
       "    'minutes_used': 148,\n",
       "    'app_category': 'communication'},\n",
       "   {'app_name': 'spotify',\n",
       "    'minutes_used': 148,\n",
       "    'app_category': 'communication'}]},\n",
       " {'Details': {'user_id': 'vinit@tribes.ai',\n",
       "   'usages_date': '2021-06-12',\n",
       "   'OS': 'Windows',\n",
       "   'brand': 'AMD64'},\n",
       "  'usages': [{'app_name': 'slack',\n",
       "    'minutes_used': 148,\n",
       "    'app_category': 'communication'},\n",
       "   {'app_name': 'gmail', 'minutes_used': 148, 'app_category': 'communication'},\n",
       "   {'app_name': 'jira', 'minutes_used': 148, 'app_category': 'communication'},\n",
       "   {'app_name': 'google drive',\n",
       "    'minutes_used': 148,\n",
       "    'app_category': 'communication'},\n",
       "   {'app_name': 'chrome',\n",
       "    'minutes_used': 148,\n",
       "    'app_category': 'communication'},\n",
       "   {'app_name': 'spotify',\n",
       "    'minutes_used': 148,\n",
       "    'app_category': 'communication'}]},\n",
       " {'Details': {'user_id': 'guilermo@tribes.ai',\n",
       "   'usages_date': '2021-06-12',\n",
       "   'OS': 'Windows',\n",
       "   'brand': 'AMD64'},\n",
       "  'usages': [{'app_name': 'slack',\n",
       "    'minutes_used': 148,\n",
       "    'app_category': 'communication'},\n",
       "   {'app_name': 'gmail', 'minutes_used': 148, 'app_category': 'communication'},\n",
       "   {'app_name': 'jira', 'minutes_used': 148, 'app_category': 'communication'},\n",
       "   {'app_name': 'google drive',\n",
       "    'minutes_used': 148,\n",
       "    'app_category': 'communication'},\n",
       "   {'app_name': 'chrome',\n",
       "    'minutes_used': 148,\n",
       "    'app_category': 'communication'},\n",
       "   {'app_name': 'spotify',\n",
       "    'minutes_used': 148,\n",
       "    'app_category': 'communication'}]},\n",
       " {'Details': {'user_id': 'christian@tribes.ai',\n",
       "   'usages_date': '2021-06-12',\n",
       "   'OS': 'Windows',\n",
       "   'brand': 'AMD64'},\n",
       "  'usages': [{'app_name': 'slack',\n",
       "    'minutes_used': 148,\n",
       "    'app_category': 'communication'},\n",
       "   {'app_name': 'gmail', 'minutes_used': 148, 'app_category': 'communication'},\n",
       "   {'app_name': 'jira', 'minutes_used': 148, 'app_category': 'communication'},\n",
       "   {'app_name': 'google drive',\n",
       "    'minutes_used': 148,\n",
       "    'app_category': 'communication'},\n",
       "   {'app_name': 'chrome',\n",
       "    'minutes_used': 148,\n",
       "    'app_category': 'communication'},\n",
       "   {'app_name': 'spotify',\n",
       "    'minutes_used': 148,\n",
       "    'app_category': 'communication'}]},\n",
       " {'Details': {'user_id': 'elly@tribes.ai',\n",
       "   'usages_date': '2021-06-12',\n",
       "   'OS': 'Windows',\n",
       "   'brand': 'AMD64'},\n",
       "  'usages': [{'app_name': 'slack',\n",
       "    'minutes_used': 148,\n",
       "    'app_category': 'communication'},\n",
       "   {'app_name': 'gmail', 'minutes_used': 148, 'app_category': 'communication'},\n",
       "   {'app_name': 'jira', 'minutes_used': 148, 'app_category': 'communication'},\n",
       "   {'app_name': 'google drive',\n",
       "    'minutes_used': 148,\n",
       "    'app_category': 'communication'},\n",
       "   {'app_name': 'chrome',\n",
       "    'minutes_used': 148,\n",
       "    'app_category': 'communication'},\n",
       "   {'app_name': 'spotify',\n",
       "    'minutes_used': 148,\n",
       "    'app_category': 'communication'}]}]"
      ]
     },
     "execution_count": 9,
     "metadata": {},
     "output_type": "execute_result"
    }
   ],
   "source": [
    "gen_data()"
   ]
  },
  {
   "cell_type": "code",
   "execution_count": 10,
   "id": "17a9c216-a68d-49cf-b5c4-7f42f2533ce0",
   "metadata": {},
   "outputs": [],
   "source": [
    "d = gen_data()"
   ]
  },
  {
   "cell_type": "code",
   "execution_count": 17,
   "id": "af93aefc-d01e-4c76-a6af-3a06116f2d26",
   "metadata": {},
   "outputs": [
    {
     "data": {
      "text/plain": [
       "{'Details': {'user_id': 'vinit@tribes.ai',\n",
       "  'usages_date': '2021-06-12',\n",
       "  'OS': 'Windows',\n",
       "  'brand': 'AMD64'},\n",
       " 'usages': [{'app_name': 'slack',\n",
       "   'minutes_used': 148,\n",
       "   'app_category': 'communication'},\n",
       "  {'app_name': 'gmail', 'minutes_used': 148, 'app_category': 'communication'},\n",
       "  {'app_name': 'jira', 'minutes_used': 148, 'app_category': 'communication'},\n",
       "  {'app_name': 'google drive',\n",
       "   'minutes_used': 148,\n",
       "   'app_category': 'communication'},\n",
       "  {'app_name': 'chrome', 'minutes_used': 148, 'app_category': 'communication'},\n",
       "  {'app_name': 'spotify',\n",
       "   'minutes_used': 148,\n",
       "   'app_category': 'communication'}]}"
      ]
     },
     "execution_count": 17,
     "metadata": {},
     "output_type": "execute_result"
    }
   ],
   "source": [
    "d[1]"
   ]
  },
  {
   "cell_type": "code",
   "execution_count": 12,
   "id": "9aa76d7b-2762-4581-914b-88142726cb20",
   "metadata": {},
   "outputs": [],
   "source": [
    "import random"
   ]
  },
  {
   "cell_type": "code",
   "execution_count": 26,
   "id": "13cc342f-ff67-4ca0-a2ac-3ff59259cdda",
   "metadata": {},
   "outputs": [
    {
     "data": {
      "text/plain": [
       "[23, 1, 119, 21, 94, 125]"
      ]
     },
     "execution_count": 26,
     "metadata": {},
     "output_type": "execute_result"
    }
   ],
   "source": [
    "minutes_used1 = random.sample(range(0, 180), 6)\n",
    "minutes_used1"
   ]
  },
  {
   "cell_type": "code",
   "execution_count": null,
   "id": "f5ac99e0-011d-4711-9599-2497ed0d03e6",
   "metadata": {},
   "outputs": [],
   "source": [
    "while sum(minutes_used1)<=480:\n",
    "    minutes_used=minutes_used1"
   ]
  },
  {
   "cell_type": "code",
   "execution_count": null,
   "id": "013a6d48-1933-4c93-ac3b-8352337396f7",
   "metadata": {},
   "outputs": [],
   "source": [
    "minutes_used"
   ]
  },
  {
   "cell_type": "code",
   "execution_count": null,
   "id": "e1abd2de-3bff-4822-a39a-2dd7af2e7078",
   "metadata": {},
   "outputs": [],
   "source": []
  }
 ],
 "metadata": {
  "kernelspec": {
   "display_name": "Python 3",
   "language": "python",
   "name": "python3"
  },
  "language_info": {
   "codemirror_mode": {
    "name": "ipython",
    "version": 3
   },
   "file_extension": ".py",
   "mimetype": "text/x-python",
   "name": "python",
   "nbconvert_exporter": "python",
   "pygments_lexer": "ipython3",
   "version": "3.9.5"
  }
 },
 "nbformat": 4,
 "nbformat_minor": 5
}
