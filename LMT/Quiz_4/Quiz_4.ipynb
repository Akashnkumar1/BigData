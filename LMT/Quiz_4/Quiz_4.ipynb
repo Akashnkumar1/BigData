{
 "cells": [
  {
   "cell_type": "markdown",
   "id": "d90a6831-32b5-43a8-ba89-ab9f3ce8d188",
   "metadata": {},
   "source": [
    "<h1 align='center'>Breast Cancer Detection</h1>"
   ]
  },
  {
   "cell_type": "code",
   "execution_count": 1,
   "id": "84907f06-d7a4-4bbe-808f-3620f65fcf7f",
   "metadata": {},
   "outputs": [],
   "source": [
    "import numpy as np\n",
    "import pandas as pd\n",
    "import matplotlib.pyplot as plt\n",
    "import seaborn as sns\n",
    "import sklearn"
   ]
  },
  {
   "cell_type": "code",
   "execution_count": 2,
   "id": "95d4b1b1-bf25-4ee9-b931-419308845472",
   "metadata": {},
   "outputs": [],
   "source": [
    "from sklearn.datasets import load_breast_cancer                                             ## Loading Built-in Dataset"
   ]
  },
  {
   "cell_type": "code",
   "execution_count": 3,
   "id": "65b5ed42-a913-4b69-8ea1-aca951e1e09a",
   "metadata": {},
   "outputs": [],
   "source": [
    "X,y = load_breast_cancer(return_X_y=True, as_frame=True)                                    ## Extracting Data"
   ]
  },
  {
   "cell_type": "code",
   "execution_count": 4,
   "id": "ea31f64f-4bdd-461c-aa51-860fdf0f033d",
   "metadata": {
    "tags": []
   },
   "outputs": [],
   "source": [
    "X = pd.DataFrame(X)                                                                         ## Making Pandas DataFrame"
   ]
  },
  {
   "cell_type": "markdown",
   "id": "34b83f1e-a2ec-485b-9cc7-d4de1fa04d30",
   "metadata": {},
   "source": [
    "<h3 align='center'>Random Forest Classifiers</h3>"
   ]
  },
  {
   "cell_type": "markdown",
   "id": "9202ffe6-c4a9-4a80-bed1-82211480c0e1",
   "metadata": {},
   "source": [
    "<b> Dividing Dataset into test and training sets</b>"
   ]
  },
  {
   "cell_type": "code",
   "execution_count": 6,
   "id": "a7021565-f764-403d-be31-c037352623a6",
   "metadata": {},
   "outputs": [],
   "source": [
    "from sklearn.model_selection import train_test_split"
   ]
  },
  {
   "cell_type": "code",
   "execution_count": 7,
   "id": "e2d8e1a4-cefe-4b2a-9a97-4c9550a93f27",
   "metadata": {},
   "outputs": [],
   "source": [
    "X_train, X_test, y_train, y_test = train_test_split(X,y,test_size=0.2, train_size=0.8, random_state=100)"
   ]
  },
  {
   "cell_type": "markdown",
   "id": "b736f960-bbb9-4b87-b08a-3cf9ddf05b84",
   "metadata": {},
   "source": [
    "Using Random Forest Classifiers "
   ]
  },
  {
   "cell_type": "code",
   "execution_count": 10,
   "id": "d52b7ccc-a76c-417a-88ca-aa3a34cb6343",
   "metadata": {},
   "outputs": [],
   "source": [
    "from sklearn.ensemble import RandomForestClassifier"
   ]
  },
  {
   "cell_type": "code",
   "execution_count": 12,
   "id": "d20f30bb-d96a-475a-99a7-4db58437b50b",
   "metadata": {},
   "outputs": [],
   "source": [
    "rf = RandomForestClassifier()"
   ]
  },
  {
   "cell_type": "code",
   "execution_count": 14,
   "id": "c6a50558-95f4-4320-aeb2-1f21b920f9e9",
   "metadata": {},
   "outputs": [],
   "source": [
    "rf = rf.fit(X_train, y_train)"
   ]
  },
  {
   "cell_type": "code",
   "execution_count": 16,
   "id": "a9656a57-590b-478c-9c14-1252ebb2308a",
   "metadata": {},
   "outputs": [],
   "source": [
    "y_pred = rf.predict(X_test)"
   ]
  },
  {
   "cell_type": "markdown",
   "id": "20071390-3ee2-46a4-ab27-44bedeb75953",
   "metadata": {},
   "source": [
    "<b>confusion matrix</b>"
   ]
  },
  {
   "cell_type": "code",
   "execution_count": 23,
   "id": "f245f058-e65b-4030-822b-50925850a824",
   "metadata": {},
   "outputs": [],
   "source": [
    "from sklearn.metrics import confusion_matrix, f1_score, classification_report, recall_score, precision_score"
   ]
  },
  {
   "cell_type": "markdown",
   "id": "e1947ac8-0543-41ac-ae73-96b4635410d0",
   "metadata": {},
   "source": [
    "<b>Precision and Recall</b>"
   ]
  },
  {
   "cell_type": "code",
   "execution_count": 25,
   "id": "36738d89-b474-4ee8-b54c-df3e27552e53",
   "metadata": {},
   "outputs": [
    {
     "data": {
      "text/plain": [
       "0.9552238805970149"
      ]
     },
     "execution_count": 25,
     "metadata": {},
     "output_type": "execute_result"
    }
   ],
   "source": [
    "precision = precision_score(y_test, y_pred)\n",
    "precision"
   ]
  },
  {
   "cell_type": "code",
   "execution_count": 27,
   "id": "6b9b7970-3f93-4c6a-bc09-7c63783207fc",
   "metadata": {},
   "outputs": [
    {
     "data": {
      "text/plain": [
       "0.9846153846153847"
      ]
     },
     "execution_count": 27,
     "metadata": {},
     "output_type": "execute_result"
    }
   ],
   "source": [
    "recall = recall_score(y_test, y_pred)\n",
    "recall"
   ]
  },
  {
   "cell_type": "markdown",
   "id": "013d7983-ca1b-4ef9-8606-a5a8c4cbf1f2",
   "metadata": {},
   "source": [
    "<b>F1 Score</b>"
   ]
  },
  {
   "cell_type": "code",
   "execution_count": 29,
   "id": "a0893c91-77ba-4a6e-ad46-6c920c147dad",
   "metadata": {},
   "outputs": [
    {
     "data": {
      "text/plain": [
       "0.9696969696969696"
      ]
     },
     "execution_count": 29,
     "metadata": {},
     "output_type": "execute_result"
    }
   ],
   "source": [
    "f1 = 2* (precision*recall)/ (precision + recall)\n",
    "f1"
   ]
  },
  {
   "cell_type": "code",
   "execution_count": 31,
   "id": "78fcab62-ccbb-4828-ab82-a596a8418f67",
   "metadata": {},
   "outputs": [
    {
     "data": {
      "text/plain": [
       "0.9696969696969696"
      ]
     },
     "execution_count": 31,
     "metadata": {},
     "output_type": "execute_result"
    }
   ],
   "source": [
    "f1_auto = f1_score(y_test, y_pred)\n",
    "f1_auto"
   ]
  }
 ],
 "metadata": {
  "kernelspec": {
   "display_name": "Python 3 (ipykernel)",
   "language": "python",
   "name": "python3"
  },
  "language_info": {
   "codemirror_mode": {
    "name": "ipython",
    "version": 3
   },
   "file_extension": ".py",
   "mimetype": "text/x-python",
   "name": "python",
   "nbconvert_exporter": "python",
   "pygments_lexer": "ipython3",
   "version": "3.9.6"
  }
 },
 "nbformat": 4,
 "nbformat_minor": 5
}
