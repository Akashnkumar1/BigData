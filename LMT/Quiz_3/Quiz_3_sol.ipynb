{
 "cells": [
  {
   "cell_type": "markdown",
   "id": "75d31d7c-ce4a-4f1f-9bcc-34bbeda716a0",
   "metadata": {},
   "source": [
    "<h1 align='center'>Titanic Survivor Prediction</h1>"
   ]
  },
  {
   "cell_type": "code",
   "execution_count": 1,
   "id": "54b1934f-90ae-4da1-9bdc-3a18bf5db66d",
   "metadata": {},
   "outputs": [],
   "source": [
    "import numpy as np \n",
    "import pandas as pd\n",
    "import matplotlib.pyplot as plt\n",
    "import seaborn as sns"
   ]
  },
  {
   "cell_type": "code",
   "execution_count": 2,
   "id": "842ebc15-a38a-4345-9cd5-b45275aa9664",
   "metadata": {},
   "outputs": [
    {
     "name": "stdout",
     "output_type": "stream",
     "text": [
      "\n",
      "We have 891 number of Rows and number of columns 12\n",
      "\n"
     ]
    },
    {
     "data": {
      "text/html": [
       "<div>\n",
       "<style scoped>\n",
       "    .dataframe tbody tr th:only-of-type {\n",
       "        vertical-align: middle;\n",
       "    }\n",
       "\n",
       "    .dataframe tbody tr th {\n",
       "        vertical-align: top;\n",
       "    }\n",
       "\n",
       "    .dataframe thead th {\n",
       "        text-align: right;\n",
       "    }\n",
       "</style>\n",
       "<table border=\"1\" class=\"dataframe\">\n",
       "  <thead>\n",
       "    <tr style=\"text-align: right;\">\n",
       "      <th></th>\n",
       "      <th>PassengerId</th>\n",
       "      <th>Survived</th>\n",
       "      <th>Pclass</th>\n",
       "      <th>Name</th>\n",
       "      <th>Sex</th>\n",
       "      <th>Age</th>\n",
       "      <th>SibSp</th>\n",
       "      <th>Parch</th>\n",
       "      <th>Ticket</th>\n",
       "      <th>Fare</th>\n",
       "      <th>Cabin</th>\n",
       "      <th>Embarked</th>\n",
       "    </tr>\n",
       "  </thead>\n",
       "  <tbody>\n",
       "    <tr>\n",
       "      <th>0</th>\n",
       "      <td>1</td>\n",
       "      <td>0</td>\n",
       "      <td>3</td>\n",
       "      <td>Braund, Mr. Owen Harris</td>\n",
       "      <td>male</td>\n",
       "      <td>22.0</td>\n",
       "      <td>1</td>\n",
       "      <td>0</td>\n",
       "      <td>A/5 21171</td>\n",
       "      <td>7.2500</td>\n",
       "      <td>NaN</td>\n",
       "      <td>S</td>\n",
       "    </tr>\n",
       "    <tr>\n",
       "      <th>1</th>\n",
       "      <td>2</td>\n",
       "      <td>1</td>\n",
       "      <td>1</td>\n",
       "      <td>Cumings, Mrs. John Bradley (Florence Briggs Th...</td>\n",
       "      <td>female</td>\n",
       "      <td>38.0</td>\n",
       "      <td>1</td>\n",
       "      <td>0</td>\n",
       "      <td>PC 17599</td>\n",
       "      <td>71.2833</td>\n",
       "      <td>C85</td>\n",
       "      <td>C</td>\n",
       "    </tr>\n",
       "    <tr>\n",
       "      <th>2</th>\n",
       "      <td>3</td>\n",
       "      <td>1</td>\n",
       "      <td>3</td>\n",
       "      <td>Heikkinen, Miss. Laina</td>\n",
       "      <td>female</td>\n",
       "      <td>26.0</td>\n",
       "      <td>0</td>\n",
       "      <td>0</td>\n",
       "      <td>STON/O2. 3101282</td>\n",
       "      <td>7.9250</td>\n",
       "      <td>NaN</td>\n",
       "      <td>S</td>\n",
       "    </tr>\n",
       "    <tr>\n",
       "      <th>3</th>\n",
       "      <td>4</td>\n",
       "      <td>1</td>\n",
       "      <td>1</td>\n",
       "      <td>Futrelle, Mrs. Jacques Heath (Lily May Peel)</td>\n",
       "      <td>female</td>\n",
       "      <td>35.0</td>\n",
       "      <td>1</td>\n",
       "      <td>0</td>\n",
       "      <td>113803</td>\n",
       "      <td>53.1000</td>\n",
       "      <td>C123</td>\n",
       "      <td>S</td>\n",
       "    </tr>\n",
       "    <tr>\n",
       "      <th>4</th>\n",
       "      <td>5</td>\n",
       "      <td>0</td>\n",
       "      <td>3</td>\n",
       "      <td>Allen, Mr. William Henry</td>\n",
       "      <td>male</td>\n",
       "      <td>35.0</td>\n",
       "      <td>0</td>\n",
       "      <td>0</td>\n",
       "      <td>373450</td>\n",
       "      <td>8.0500</td>\n",
       "      <td>NaN</td>\n",
       "      <td>S</td>\n",
       "    </tr>\n",
       "  </tbody>\n",
       "</table>\n",
       "</div>"
      ],
      "text/plain": [
       "   PassengerId  Survived  Pclass  \\\n",
       "0            1         0       3   \n",
       "1            2         1       1   \n",
       "2            3         1       3   \n",
       "3            4         1       1   \n",
       "4            5         0       3   \n",
       "\n",
       "                                                Name     Sex   Age  SibSp  \\\n",
       "0                            Braund, Mr. Owen Harris    male  22.0      1   \n",
       "1  Cumings, Mrs. John Bradley (Florence Briggs Th...  female  38.0      1   \n",
       "2                             Heikkinen, Miss. Laina  female  26.0      0   \n",
       "3       Futrelle, Mrs. Jacques Heath (Lily May Peel)  female  35.0      1   \n",
       "4                           Allen, Mr. William Henry    male  35.0      0   \n",
       "\n",
       "   Parch            Ticket     Fare Cabin Embarked  \n",
       "0      0         A/5 21171   7.2500   NaN        S  \n",
       "1      0          PC 17599  71.2833   C85        C  \n",
       "2      0  STON/O2. 3101282   7.9250   NaN        S  \n",
       "3      0            113803  53.1000  C123        S  \n",
       "4      0            373450   8.0500   NaN        S  "
      ]
     },
     "execution_count": 2,
     "metadata": {},
     "output_type": "execute_result"
    }
   ],
   "source": [
    "df = pd.read_csv('titanic.csv')                                                                     ## lOADING DATA INTO DATAFRAME.\n",
    "print('\\nWe have {} number of Rows and number of columns {}\\n'.format(df.shape[0],df.shape[1]))\n",
    "df.head()"
   ]
  },
  {
   "cell_type": "code",
   "execution_count": 3,
   "id": "93a66e3a-90f9-4e6b-be98-82e4b2a80264",
   "metadata": {},
   "outputs": [
    {
     "data": {
      "text/plain": [
       "PassengerId      0\n",
       "Survived         0\n",
       "Pclass           0\n",
       "Name             0\n",
       "Sex              0\n",
       "Age            177\n",
       "SibSp            0\n",
       "Parch            0\n",
       "Ticket           0\n",
       "Fare             0\n",
       "Cabin          687\n",
       "Embarked         2\n",
       "dtype: int64"
      ]
     },
     "execution_count": 3,
     "metadata": {},
     "output_type": "execute_result"
    }
   ],
   "source": [
    "df.isnull().sum()                                                                                     ## CHECKING FOR NULL OR MISSING VALUES."
   ]
  },
  {
   "cell_type": "code",
   "execution_count": 4,
   "id": "330feb29-2e9f-4186-8006-db5e8ca5f370",
   "metadata": {},
   "outputs": [
    {
     "data": {
      "text/plain": [
       "Int64Index([  5,  17,  19,  26,  28,  29,  31,  32,  36,  42,\n",
       "            ...\n",
       "            832, 837, 839, 846, 849, 859, 863, 868, 878, 888],\n",
       "           dtype='int64', length=177)"
      ]
     },
     "execution_count": 4,
     "metadata": {},
     "output_type": "execute_result"
    }
   ],
   "source": [
    "df.loc[df['Age'].isnull()].index                                                                      ## GETTING INDEX NUMBER OF WHERE AGE IS MISSING"
   ]
  },
  {
   "cell_type": "code",
   "execution_count": 5,
   "id": "a806bd8f-ce01-4129-8cb4-3d8f63601bcd",
   "metadata": {},
   "outputs": [],
   "source": [
    "df.drop(index = df.loc[df['Age'].isnull()].index, inplace=True)                                      ## DROPPING RECORDS WHERE AGE IS MISSING SINCE WE DON'T HAVE ANY DPENDENCIES TO PREDICT AGE"
   ]
  },
  {
   "cell_type": "code",
   "execution_count": 6,
   "id": "96c4f98f-00ca-4daf-b87b-ece889a490a1",
   "metadata": {},
   "outputs": [
    {
     "name": "stdout",
     "output_type": "stream",
     "text": [
      "\n",
      "Number of Duplicated Records : 0\n"
     ]
    }
   ],
   "source": [
    "print('\\nNumber of Duplicated Records :',df.duplicated().sum())"
   ]
  },
  {
   "cell_type": "code",
   "execution_count": 24,
   "id": "e8c78d1e-9d24-45c3-b571-86af21fc32c7",
   "metadata": {},
   "outputs": [
    {
     "data": {
      "image/png": "[encoded data removed]",
      "text/plain": [
       "<Figure size 1440x576 with 1 Axes>"
      ]
     },
     "metadata": {
      "needs_background": "light"
     },
     "output_type": "display_data"
    }
   ],
   "source": [
    "plt.figure(figsize=(20,8))\n",
    "sns.scatterplot(data=df, y='Pclass',x='Age',hue='Sex')\n",
    "plt.title('Passenger Class Preference with Age',size=18)\n",
    "plt.show()"
   ]
  },
  {
   "cell_type": "markdown",
   "id": "752dfd4d-664d-4637-b22d-a2f763268d26",
   "metadata": {},
   "source": [
    "<h4>Train Test Split</h4>"
   ]
  },
  {
   "cell_type": "code",
   "execution_count": 25,
   "id": "93c8569c-7535-454c-9adc-d961416da58c",
   "metadata": {},
   "outputs": [],
   "source": [
    "import sklearn\n",
    "from sklearn.model_selection import train_test_split"
   ]
  },
  {
   "cell_type": "code",
   "execution_count": 26,
   "id": "2d3130b5-6195-4512-b29c-882ed45c3d9a",
   "metadata": {},
   "outputs": [],
   "source": [
    "X_train, X_test, y_train, y_test = train_test_split(df[['Pclass','Age']],df[\"Survived\"], test_size = 0.1, train_size=0.9)"
   ]
  },
  {
   "cell_type": "markdown",
   "id": "4d03e9eb-8433-445a-928b-943569ee49d2",
   "metadata": {},
   "source": [
    "<h3 align = 'center'>Logistic Regression</h3>"
   ]
  },
  {
   "cell_type": "code",
   "execution_count": 33,
   "id": "e03384a3-5b1f-423d-aa9f-c34c26ba5716",
   "metadata": {},
   "outputs": [],
   "source": [
    "from sklearn.linear_model import LogisticRegression\n",
    "lr = LogisticRegression()                                                                       ## Calling and assigning Logistic Regression model to lr variable"
   ]
  },
  {
   "cell_type": "code",
   "execution_count": 36,
   "id": "13b4fa53-7bb8-465e-8ddf-5227ebcb168e",
   "metadata": {},
   "outputs": [],
   "source": [
    "lr_trained = lr.fit(X_train, y_train)                                                           ## Training Our Model"
   ]
  },
  {
   "cell_type": "code",
   "execution_count": 40,
   "id": "797db596-32d5-4183-88a2-e92d6bd04b85",
   "metadata": {},
   "outputs": [],
   "source": [
    "y_pred = lr_trained.predict(X_test)                                                             ## Predicting Results"
   ]
  },
  {
   "cell_type": "markdown",
   "id": "596a3cbc-ad80-44bf-8228-5f80a54dd500",
   "metadata": {},
   "source": [
    "<b><br>Importing Important Library <br></b>"
   ]
  },
  {
   "cell_type": "code",
   "execution_count": 49,
   "id": "56879680-3912-43df-b6d1-9bb3c8f724b5",
   "metadata": {},
   "outputs": [],
   "source": [
    "from sklearn.metrics import confusion_matrix, classification_report, f1_score"
   ]
  },
  {
   "cell_type": "markdown",
   "id": "1bbbe7f6-333f-43ca-86ba-8d6579c2b43d",
   "metadata": {},
   "source": [
    "<b><br>Confusion Matrix</b>"
   ]
  },
  {
   "cell_type": "code",
   "execution_count": 50,
   "id": "b7cb589d-15e7-46cb-867e-430a923d91ab",
   "metadata": {},
   "outputs": [
    {
     "data": {
      "text/plain": [
       "array([[37,  6],\n",
       "       [13, 16]], dtype=int64)"
      ]
     },
     "execution_count": 50,
     "metadata": {},
     "output_type": "execute_result"
    }
   ],
   "source": [
    "confusion_matrix(y_test, y_pred)"
   ]
  },
  {
   "cell_type": "markdown",
   "id": "21971cf5-8c93-4c01-8b35-719890fbd134",
   "metadata": {},
   "source": [
    "<b><br>Precision and Recall</b>"
   ]
  },
  {
   "cell_type": "code",
   "execution_count": 53,
   "id": "6b3600b4-3370-4659-bcb1-def5bdc6462e",
   "metadata": {},
   "outputs": [],
   "source": [
    "from sklearn.metrics import precision_score, recall_score"
   ]
  },
  {
   "cell_type": "code",
   "execution_count": 54,
   "id": "ec814a1e-b1f0-4d4b-9574-0f394bf36850",
   "metadata": {},
   "outputs": [],
   "source": [
    "precision = precision_score(y_test, y_pred)"
   ]
  },
  {
   "cell_type": "code",
   "execution_count": 55,
   "id": "6e2d23a0-9928-4ea4-b065-15de1648883a",
   "metadata": {},
   "outputs": [],
   "source": [
    "recall =  recall_score(y_test, y_pred)"
   ]
  },
  {
   "cell_type": "markdown",
   "id": "98377323-0906-48ad-90a2-eff2cf10756b",
   "metadata": {},
   "source": [
    "<b> F1 Score : Mannul</b>"
   ]
  },
  {
   "cell_type": "code",
   "execution_count": 57,
   "id": "17b3c906-4533-4c63-afd5-7b491e76cd84",
   "metadata": {},
   "outputs": [],
   "source": [
    "f1 = 2 * (precision * recall) / (precision + recall)"
   ]
  },
  {
   "cell_type": "code",
   "execution_count": 58,
   "id": "ebdb7a17-e12f-4d16-98af-1b25a47050f1",
   "metadata": {},
   "outputs": [
    {
     "data": {
      "text/plain": [
       "0.6274509803921569"
      ]
     },
     "execution_count": 58,
     "metadata": {},
     "output_type": "execute_result"
    }
   ],
   "source": [
    "f1"
   ]
  },
  {
   "cell_type": "markdown",
   "id": "c4b04cf7-1751-4d63-9fc6-f90773223477",
   "metadata": {},
   "source": [
    "<b> F1 Score : Auto</b>"
   ]
  },
  {
   "cell_type": "code",
   "execution_count": 59,
   "id": "6edccaef-3663-44c3-b417-a036fdeff710",
   "metadata": {},
   "outputs": [
    {
     "data": {
      "text/plain": [
       "0.6274509803921569"
      ]
     },
     "execution_count": 59,
     "metadata": {},
     "output_type": "execute_result"
    }
   ],
   "source": [
    "f1_score(y_test, y_pred)"
   ]
  },
  {
   "cell_type": "markdown",
   "id": "fae9bb9e-2f12-45e9-8e40-0618d64dc1d9",
   "metadata": {},
   "source": [
    "<b> Complete Report </b>"
   ]
  },
  {
   "cell_type": "code",
   "execution_count": 61,
   "id": "2cb47bd4-c88a-4df9-8b78-920dadc1276a",
   "metadata": {},
   "outputs": [
    {
     "name": "stdout",
     "output_type": "stream",
     "text": [
      "              precision    recall  f1-score   support\n",
      "\n",
      "           0       0.74      0.86      0.80        43\n",
      "           1       0.73      0.55      0.63        29\n",
      "\n",
      "    accuracy                           0.74        72\n",
      "   macro avg       0.73      0.71      0.71        72\n",
      "weighted avg       0.73      0.74      0.73        72\n",
      "\n"
     ]
    }
   ],
   "source": [
    "print(classification_report(y_test, y_pred))"
   ]
  }
 ],
 "metadata": {
  "kernelspec": {
   "display_name": "Python 3 (ipykernel)",
   "language": "python",
   "name": "python3"
  },
  "language_info": {
   "codemirror_mode": {
    "name": "ipython",
    "version": 3
   },
   "file_extension": ".py",
   "mimetype": "text/x-python",
   "name": "python",
   "nbconvert_exporter": "python",
   "pygments_lexer": "ipython3",
   "version": "3.9.6"
  }
 },
 "nbformat": 4,
 "nbformat_minor": 5
}
