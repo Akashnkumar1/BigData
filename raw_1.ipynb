{
 "cells": [
  {
   "cell_type": "code",
   "execution_count": 1,
   "id": "91708206-dc60-498f-b732-0a85275501bb",
   "metadata": {},
   "outputs": [],
   "source": [
    "str= 'Turbekistan ATtacks with the help of 124##3 @4563 ISI'"
   ]
  },
  {
   "cell_type": "code",
   "execution_count": 30,
   "id": "acfabcb7-c4a7-471e-a347-466cd6f085ae",
   "metadata": {},
   "outputs": [
    {
     "name": "stdout",
     "output_type": "stream",
     "text": [
      "we have 6 Number of upper case and 28 number of lower case 8 number of num char 11 number of other\n"
     ]
    }
   ],
   "source": [
    "upper=[]\n",
    "lower = []\n",
    "regchar = []\n",
    "space=[]\n",
    "num=[]\n",
    "for i in str:\n",
    "    if i.isupper():\n",
    "       upper.append(i)\n",
    "    elif i.islower():\n",
    "        lower.append(i)\n",
    "    elif i.isnumeric():\n",
    "        num.append(i)\n",
    "    elif i.isspace():\n",
    "        space.append(i)\n",
    "    else:\n",
    "        regchar.append(i)\n",
    "print(\"we have {} Number of upper case and {} number of lower case {} number of num char {} number of other\"\\\n",
    "      .format(len(upper), len(lower), len(num), len(otherchar)))"
   ]
  },
  {
   "cell_type": "code",
   "execution_count": 27,
   "id": "20ff1f3f-36d2-4748-af92-f0c4e92ab763",
   "metadata": {},
   "outputs": [
    {
     "data": {
      "text/plain": [
       "['1', '2', '4', '3', '4', '5', '6', '3']"
      ]
     },
     "execution_count": 27,
     "metadata": {},
     "output_type": "execute_result"
    }
   ],
   "source": [
    "num"
   ]
  },
  {
   "cell_type": "code",
   "execution_count": 33,
   "id": "518b3658-2f49-4b8d-93ab-b3dc0cb5c0a3",
   "metadata": {},
   "outputs": [
    {
     "data": {
      "text/plain": [
       "[' ', ' ', ' ', ' ', ' ', ' ', ' ', ' ']"
      ]
     },
     "execution_count": 33,
     "metadata": {},
     "output_type": "execute_result"
    }
   ],
   "source": [
    "space"
   ]
  },
  {
   "cell_type": "code",
   "execution_count": 34,
   "id": "b57f53dd-f292-45d2-a462-ee781be001fd",
   "metadata": {},
   "outputs": [
    {
     "data": {
      "text/plain": [
       "['#', '#', '@']"
      ]
     },
     "execution_count": 34,
     "metadata": {},
     "output_type": "execute_result"
    }
   ],
   "source": [
    "regchar"
   ]
  },
  {
   "cell_type": "code",
   "execution_count": null,
   "id": "9029b9d1-f833-4f07-9257-81d14d059aa6",
   "metadata": {},
   "outputs": [],
   "source": []
  }
 ],
 "metadata": {
  "kernelspec": {
   "display_name": "Python 3 (ipykernel)",
   "language": "python",
   "name": "python3"
  },
  "language_info": {
   "codemirror_mode": {
    "name": "ipython",
    "version": 3
   },
   "file_extension": ".py",
   "mimetype": "text/x-python",
   "name": "python",
   "nbconvert_exporter": "python",
   "pygments_lexer": "ipython3",
   "version": "3.9.6"
  }
 },
 "nbformat": 4,
 "nbformat_minor": 5
}
