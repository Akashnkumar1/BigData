{
 "cells": [
  {
   "cell_type": "code",
   "execution_count": 1,
   "id": "fd6ce79f-d40e-43d2-9108-b5f82483bb7a",
   "metadata": {},
   "outputs": [],
   "source": [
    "import findspark"
   ]
  },
  {
   "cell_type": "code",
   "execution_count": 2,
   "id": "05176424-9d95-499c-a162-d831c8100dec",
   "metadata": {},
   "outputs": [
    {
     "data": {
      "text/plain": [
       "'C:\\\\Spark'"
      ]
     },
     "execution_count": 2,
     "metadata": {},
     "output_type": "execute_result"
    }
   ],
   "source": [
    "findspark.init()\n",
    "findspark.find()"
   ]
  },
  {
   "cell_type": "code",
   "execution_count": 3,
   "id": "8e433f4c-91df-4cd0-ac62-af34b53ccbee",
   "metadata": {},
   "outputs": [],
   "source": [
    "import pyspark"
   ]
  },
  {
   "cell_type": "code",
   "execution_count": 4,
   "id": "bafdaeb1-2396-48cf-a3e9-f0cb03ec94e3",
   "metadata": {},
   "outputs": [],
   "source": [
    "from pyspark.sql import SparkSession"
   ]
  },
  {
   "cell_type": "code",
   "execution_count": 5,
   "id": "ac3209db-1c3f-40b5-95a6-f64945f4ffb5",
   "metadata": {},
   "outputs": [],
   "source": [
    "spark = SparkSession.builder.appName(\"akash\").getOrCreate()"
   ]
  },
  {
   "cell_type": "code",
   "execution_count": 6,
   "id": "cc023d52-4b2b-495e-9df2-25c674308c59",
   "metadata": {},
   "outputs": [
    {
     "data": {
      "text/html": [
       "\n",
       "            <div>\n",
       "                <p><b>SparkSession - in-memory</b></p>\n",
       "                \n",
       "        <div>\n",
       "            <p><b>SparkContext</b></p>\n",
       "\n",
       "            <p><a href=\"http://host.docker.internal:4040\">Spark UI</a></p>\n",
       "\n",
       "            <dl>\n",
       "              <dt>Version</dt>\n",
       "                <dd><code>v3.1.2</code></dd>\n",
       "              <dt>Master</dt>\n",
       "                <dd><code>local[*]</code></dd>\n",
       "              <dt>AppName</dt>\n",
       "                <dd><code>akash</code></dd>\n",
       "            </dl>\n",
       "        </div>\n",
       "        \n",
       "            </div>\n",
       "        "
      ],
      "text/plain": [
       "<pyspark.sql.session.SparkSession at 0x14df84ee100>"
      ]
     },
     "execution_count": 6,
     "metadata": {},
     "output_type": "execute_result"
    }
   ],
   "source": [
    "spark"
   ]
  },
  {
   "cell_type": "code",
   "execution_count": 7,
   "id": "6e186d8c-5e7c-48ef-a47f-99024a430f47",
   "metadata": {},
   "outputs": [],
   "source": [
    "data = [('akash',2128),(\"bbkvines\", 9220),(\"dks\" , 8320)]"
   ]
  },
  {
   "cell_type": "code",
   "execution_count": 8,
   "id": "63fe4734-8e1b-4785-8782-6886c671c8c7",
   "metadata": {},
   "outputs": [],
   "source": [
    "rdd = spark.sparkContext.parallelize(data)"
   ]
  },
  {
   "cell_type": "code",
   "execution_count": 9,
   "id": "f0c41fea-b4c5-4dae-84c6-08ea953c67f1",
   "metadata": {},
   "outputs": [
    {
     "data": {
      "text/plain": [
       "[('akash', 2128), ('bbkvines', 9220), ('dks', 8320)]"
      ]
     },
     "execution_count": 9,
     "metadata": {},
     "output_type": "execute_result"
    }
   ],
   "source": [
    "rdd.collect()"
   ]
  },
  {
   "cell_type": "code",
   "execution_count": 10,
   "id": "aa498465-7ee3-4519-9f5d-7bc95a2c2e5e",
   "metadata": {},
   "outputs": [],
   "source": [
    "df = rdd.toDF()"
   ]
  },
  {
   "cell_type": "code",
   "execution_count": 11,
   "id": "b4a173d4-24f9-49ff-97f1-dd557e6f9f68",
   "metadata": {},
   "outputs": [
    {
     "data": {
      "text/plain": [
       "DataFrame[_1: string, _2: bigint]"
      ]
     },
     "metadata": {},
     "output_type": "display_data"
    }
   ],
   "source": [
    "display(df)"
   ]
  },
  {
   "cell_type": "code",
   "execution_count": 12,
   "id": "6a2c183f-12c2-4cd8-967e-c0c88ee90b6c",
   "metadata": {},
   "outputs": [
    {
     "name": "stdout",
     "output_type": "stream",
     "text": [
      "+--------+----+\n",
      "|      _1|  _2|\n",
      "+--------+----+\n",
      "|   akash|2128|\n",
      "|bbkvines|9220|\n",
      "|     dks|8320|\n",
      "+--------+----+\n",
      "\n"
     ]
    }
   ],
   "source": [
    "df.show()"
   ]
  },
  {
   "cell_type": "code",
   "execution_count": 13,
   "id": "2ef8f322-fc25-42be-9e68-c065db642605",
   "metadata": {},
   "outputs": [
    {
     "data": {
      "text/html": [
       "\n",
       "            <div>\n",
       "                <p><b>SparkSession - in-memory</b></p>\n",
       "                \n",
       "        <div>\n",
       "            <p><b>SparkContext</b></p>\n",
       "\n",
       "            <p><a href=\"http://host.docker.internal:4040\">Spark UI</a></p>\n",
       "\n",
       "            <dl>\n",
       "              <dt>Version</dt>\n",
       "                <dd><code>v3.1.2</code></dd>\n",
       "              <dt>Master</dt>\n",
       "                <dd><code>local[*]</code></dd>\n",
       "              <dt>AppName</dt>\n",
       "                <dd><code>akash</code></dd>\n",
       "            </dl>\n",
       "        </div>\n",
       "        \n",
       "            </div>\n",
       "        "
      ],
      "text/plain": [
       "<pyspark.sql.session.SparkSession at 0x14df84ee100>"
      ]
     },
     "execution_count": 13,
     "metadata": {},
     "output_type": "execute_result"
    }
   ],
   "source": [
    "spark"
   ]
  },
  {
   "cell_type": "code",
   "execution_count": 14,
   "id": "08e6114f-0709-4c82-b8e6-7de075a13d4f",
   "metadata": {},
   "outputs": [],
   "source": [
    "newApp = SparkSession.builder.appName(\"New-App\").getOrCreate()"
   ]
  },
  {
   "cell_type": "code",
   "execution_count": 15,
   "id": "e62f37e1-c9e7-49f3-bc38-8660267ce7b6",
   "metadata": {},
   "outputs": [],
   "source": [
    "new = newApp.sparkContext.parallelize([range(0,100,2), range(0,100,4)])"
   ]
  },
  {
   "cell_type": "code",
   "execution_count": 16,
   "id": "663a3c74-a7ea-4b85-b989-0e4975d09a19",
   "metadata": {},
   "outputs": [
    {
     "data": {
      "text/plain": [
       "[range(0, 100, 2), range(0, 100, 4)]"
      ]
     },
     "execution_count": 16,
     "metadata": {},
     "output_type": "execute_result"
    }
   ],
   "source": [
    "new.collect()"
   ]
  },
  {
   "cell_type": "code",
   "execution_count": 17,
   "id": "0203e33a-4c9d-4858-baec-eb370bffc4cf",
   "metadata": {},
   "outputs": [],
   "source": [
    "df = newApp.read.option(\"delimeter\", \",\").csv('../LMT/Quiz_4/dataR2.csv', header=True)"
   ]
  },
  {
   "cell_type": "code",
   "execution_count": 18,
   "id": "c88d3627-a0b2-406e-a6c7-3e4910f87ae4",
   "metadata": {},
   "outputs": [
    {
     "name": "stdout",
     "output_type": "stream",
     "text": [
      "+---+-----------+-------+-------+-----------+-------+-----------+--------+--------+--------------+\n",
      "|Age|        BMI|Glucose|Insulin|       HOMA| Leptin|Adiponectin|Resistin|   MCP.1|Classification|\n",
      "+---+-----------+-------+-------+-----------+-------+-----------+--------+--------+--------------+\n",
      "| 48|       23.5|     70|  2.707|0.467408667| 8.8071|     9.7024| 7.99585| 417.114|             1|\n",
      "| 83|20.69049454|     92|  3.115|0.706897333| 8.8438|   5.429285| 4.06405| 468.786|             1|\n",
      "| 82|23.12467037|     91|  4.498|1.009651067|17.9393|   22.43204| 9.27715| 554.697|             1|\n",
      "| 68|21.36752137|     77|  3.226|0.612724933| 9.8827|    7.16956|  12.766|  928.22|             1|\n",
      "| 86|21.11111111|     92|  3.549|  0.8053864| 6.6994|    4.81924|10.57635|  773.92|             1|\n",
      "| 49|22.85445769|     92|  3.226|0.732086933| 6.8317|   13.67975| 10.3176|  530.41|             1|\n",
      "| 89|       22.7|     77|   4.69|0.890787333|  6.964|   5.589865| 12.9361|1256.083|             1|\n",
      "| 76|       23.8|    118|   6.47|1.883201333|  4.311|   13.25132|  5.1042| 280.694|             1|\n",
      "| 73|         22|     97|   3.35|0.801543333|   4.47|  10.358725| 6.28445| 136.855|             1|\n",
      "| 75|         23|     83|  4.952|1.013839467| 17.127|   11.57899|  7.0913| 318.302|             1|\n",
      "| 34|      21.47|     78|  3.469|  0.6674356|  14.57|      13.11|    6.92|   354.6|             1|\n",
      "| 29|      23.01|     82|  5.663|1.145436133|  35.59|      26.72|    4.58|   174.8|             1|\n",
      "| 25|      22.86|     82|   4.09|0.827270667|  20.45|      23.67|    5.14|  313.73|             1|\n",
      "| 24|      18.67|     88|  6.107|       1.33|   8.88|      36.06|    6.85|  632.22|             1|\n",
      "| 38|      23.34|     75|  5.782|    1.06967|  15.26|      17.95|    9.35|  165.02|             1|\n",
      "| 44|      20.76|     86|  7.553|        1.6|  14.09|      20.32|    7.64|   63.61|             1|\n",
      "| 47|      22.03|     84|  2.869|       0.59|  26.65|      38.04|    3.32|  191.72|             1|\n",
      "| 61|32.03895937|     85| 18.077|3.790144333|30.7729|   7.780255|13.68392| 444.395|             1|\n",
      "| 64| 34.5297228|     95|  4.427|1.037393667|21.2117|    5.46262| 6.70188| 252.449|             1|\n",
      "| 32|36.51263743|     87| 14.026|  3.0099796|49.3727|        5.1|17.10223|  588.46|             1|\n",
      "+---+-----------+-------+-------+-----------+-------+-----------+--------+--------+--------------+\n",
      "only showing top 20 rows\n",
      "\n"
     ]
    }
   ],
   "source": [
    "df.show()"
   ]
  },
  {
   "cell_type": "code",
   "execution_count": 19,
   "id": "59f53b62-b26e-475b-a3fc-d70532984425",
   "metadata": {},
   "outputs": [
    {
     "data": {
      "text/html": [
       "\n",
       "            <div>\n",
       "                <p><b>SparkSession - in-memory</b></p>\n",
       "                \n",
       "        <div>\n",
       "            <p><b>SparkContext</b></p>\n",
       "\n",
       "            <p><a href=\"http://host.docker.internal:4040\">Spark UI</a></p>\n",
       "\n",
       "            <dl>\n",
       "              <dt>Version</dt>\n",
       "                <dd><code>v3.1.2</code></dd>\n",
       "              <dt>Master</dt>\n",
       "                <dd><code>local[*]</code></dd>\n",
       "              <dt>AppName</dt>\n",
       "                <dd><code>akash</code></dd>\n",
       "            </dl>\n",
       "        </div>\n",
       "        \n",
       "            </div>\n",
       "        "
      ],
      "text/plain": [
       "<pyspark.sql.session.SparkSession at 0x14df84ee100>"
      ]
     },
     "execution_count": 19,
     "metadata": {},
     "output_type": "execute_result"
    }
   ],
   "source": [
    "newApp"
   ]
  },
  {
   "cell_type": "code",
   "execution_count": 20,
   "id": "0b85d37f-5892-42aa-89f5-2c34813e10e7",
   "metadata": {},
   "outputs": [],
   "source": [
    "newApp.stop()"
   ]
  }
 ],
 "metadata": {
  "kernelspec": {
   "display_name": "Python 3 (ipykernel)",
   "language": "python",
   "name": "python3"
  },
  "language_info": {
   "codemirror_mode": {
    "name": "ipython",
    "version": 3
   },
   "file_extension": ".py",
   "mimetype": "text/x-python",
   "name": "python",
   "nbconvert_exporter": "python",
   "pygments_lexer": "ipython3",
   "version": "3.9.6"
  }
 },
 "nbformat": 4,
 "nbformat_minor": 5
}
