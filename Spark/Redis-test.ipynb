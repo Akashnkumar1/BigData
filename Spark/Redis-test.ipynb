{
 "cells": [
  {
   "cell_type": "code",
   "execution_count": 1,
   "id": "81998c74-f70a-4c99-acff-f0391af1ca51",
   "metadata": {},
   "outputs": [],
   "source": [
    "import redis"
   ]
  },
  {
   "cell_type": "code",
   "execution_count": 2,
   "id": "a3365754-3d44-4395-84a8-f9a72e2c9452",
   "metadata": {},
   "outputs": [],
   "source": [
    "read = redis.Redis(host='localhost', port = 6379)"
   ]
  },
  {
   "cell_type": "code",
   "execution_count": 7,
   "id": "6cf72fde-6a63-43aa-aec9-1dd001f4fbe8",
   "metadata": {},
   "outputs": [
    {
     "data": {
      "text/plain": [
       "True"
      ]
     },
     "execution_count": 7,
     "metadata": {},
     "output_type": "execute_result"
    }
   ],
   "source": [
    "read.set('sir', 'neelesh')"
   ]
  },
  {
   "cell_type": "code",
   "execution_count": 11,
   "id": "794b7478-afbd-474b-bcbb-28eef2d0e69f",
   "metadata": {},
   "outputs": [
    {
     "data": {
      "text/plain": [
       "b'neelesh'"
      ]
     },
     "execution_count": 11,
     "metadata": {},
     "output_type": "execute_result"
    }
   ],
   "source": [
    "read.get('sir')"
   ]
  },
  {
   "cell_type": "code",
   "execution_count": null,
   "id": "832f12e8-6521-454d-b46f-1060b82c703a",
   "metadata": {},
   "outputs": [],
   "source": []
  }
 ],
 "metadata": {
  "kernelspec": {
   "display_name": "Python 3 (ipykernel)",
   "language": "python",
   "name": "python3"
  },
  "language_info": {
   "codemirror_mode": {
    "name": "ipython",
    "version": 3
   },
   "file_extension": ".py",
   "mimetype": "text/x-python",
   "name": "python",
   "nbconvert_exporter": "python",
   "pygments_lexer": "ipython3",
   "version": "3.9.6"
  }
 },
 "nbformat": 4,
 "nbformat_minor": 5
}
